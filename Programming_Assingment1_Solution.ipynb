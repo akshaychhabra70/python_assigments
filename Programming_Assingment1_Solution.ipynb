{
 "cells": [
  {
   "cell_type": "code",
   "execution_count": 1,
   "metadata": {},
   "outputs": [
    {
     "name": "stdout",
     "output_type": "stream",
     "text": [
      "Hello python\n"
     ]
    }
   ],
   "source": [
    "# Solution 1 \n",
    "\n",
    "print('Hello python')"
   ]
  },
  {
   "cell_type": "code",
   "execution_count": 2,
   "metadata": {},
   "outputs": [
    {
     "name": "stdout",
     "output_type": "stream",
     "text": [
      "15\n",
      "2.0\n"
     ]
    }
   ],
   "source": [
    "# Solution 2\n",
    "\n",
    "a = 10\n",
    "b = 5\n",
    "\n",
    "# Arithmetic Addition\n",
    "c = a+b\n",
    "print(c)\n",
    "\n",
    "# Arithmetic Division\n",
    "d = a/b\n",
    "print(d)"
   ]
  },
  {
   "cell_type": "code",
   "execution_count": 3,
   "metadata": {},
   "outputs": [
    {
     "name": "stdout",
     "output_type": "stream",
     "text": [
      "5.0\n"
     ]
    }
   ],
   "source": [
    "# Solution 3\n",
    "\n",
    "base = 5\n",
    "height = 2\n",
    "\n",
    "# Area of triangle\n",
    "area = 1/2*base*height\n",
    "\n",
    "print(area)"
   ]
  },
  {
   "cell_type": "code",
   "execution_count": 7,
   "metadata": {},
   "outputs": [
    {
     "name": "stdout",
     "output_type": "stream",
     "text": [
      "Number before swapping - a=5  b=10\n",
      "Number after swapping - a=10  b=5\n"
     ]
    }
   ],
   "source": [
    "# Solution 4\n",
    "\n",
    "a = 5\n",
    "b = 10\n",
    "\n",
    "print(\"Number before swapping - a={}  b={}\".format(a,b))\n",
    "\n",
    "# Swapping using thrid variable\n",
    "c=a\n",
    "a=b\n",
    "b=c\n",
    "\n",
    "print(\"Number after swapping - a={}  b={}\".format(a,b))\n",
    "\n"
   ]
  },
  {
   "cell_type": "code",
   "execution_count": 20,
   "metadata": {},
   "outputs": [
    {
     "data": {
      "text/plain": [
       "19"
      ]
     },
     "execution_count": 20,
     "metadata": {},
     "output_type": "execute_result"
    }
   ],
   "source": [
    "# Solution 5\n",
    "\n",
    "import random\n",
    "\n",
    "randomNumber = random.randint(10,20)\n",
    "randomNumber"
   ]
  },
  {
   "cell_type": "code",
   "execution_count": null,
   "metadata": {},
   "outputs": [],
   "source": []
  }
 ],
 "metadata": {
  "kernelspec": {
   "display_name": "Python 3",
   "language": "python",
   "name": "python3"
  },
  "language_info": {
   "codemirror_mode": {
    "name": "ipython",
    "version": 3
   },
   "file_extension": ".py",
   "mimetype": "text/x-python",
   "name": "python",
   "nbconvert_exporter": "python",
   "pygments_lexer": "ipython3",
   "version": "3.8.5"
  }
 },
 "nbformat": 4,
 "nbformat_minor": 4
}
